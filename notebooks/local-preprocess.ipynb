{
 "cells": [
  {
   "cell_type": "code",
   "execution_count": null,
   "metadata": {},
   "outputs": [],
   "source": [
    "import json\n",
    "import os\n",
    "\n",
    "from IPython.display import Audio, display\n",
    "from tqdm import tqdm"
   ]
  },
  {
   "cell_type": "code",
   "execution_count": null,
   "metadata": {},
   "outputs": [],
   "source": [
    "cwd = os.getcwd()\n",
    "data_path = os.path.join(cwd, \"..\", \"data/logs.json\")\n",
    "with open(data_path, encoding=\"utf-8\") as f:\n",
    "    logs = json.load(f)\n",
    "print(logs)"
   ]
  },
  {
   "cell_type": "code",
   "execution_count": null,
   "metadata": {},
   "outputs": [],
   "source": [
    "audio_dir = os.path.join(cwd, \"..\", \"data/audio_files\")\n",
    "audio_files = [logs['audio_file'] for logs in logs]\n",
    "texts = [logs['text'] for logs in logs]\n",
    "print(audio_files)\n",
    "print(texts)\n",
    "assert(len(audio_files) == len(texts))\n",
    "print(f\"Number of samples: {len(audio_files)}\")"
   ]
  },
  {
   "cell_type": "code",
   "execution_count": null,
   "metadata": {},
   "outputs": [],
   "source": [
    "from pydub import AudioSegment\n",
    "\n",
    "\n",
    "for audio_file in tqdm(audio_files, total=len(audio_files)):\n",
    "    audio_path = os.path.join(audio_dir, audio_file)\n",
    "    audio = AudioSegment.from_file(audio_path)\n",
    "    audio = audio.set_frame_rate(16000)  \n",
    "    audio.export(audio_path, format=\"wav\")"
   ]
  },
  {
   "cell_type": "code",
   "execution_count": null,
   "metadata": {},
   "outputs": [],
   "source": [
    "import random\n",
    "idx = random.randint(0, len(audio_files)-1)\n",
    "audio_example = os.path.join(audio_dir, audio_files[idx])\n",
    "print(f\"text: {texts[idx]}\")\n",
    "display(Audio(audio_example))"
   ]
  },
  {
   "cell_type": "code",
   "execution_count": null,
   "metadata": {},
   "outputs": [],
   "source": []
  }
 ],
 "metadata": {
  "kernelspec": {
   "display_name": ".venv",
   "language": "python",
   "name": "python3"
  },
  "language_info": {
   "codemirror_mode": {
    "name": "ipython",
    "version": 3
   },
   "file_extension": ".py",
   "mimetype": "text/x-python",
   "name": "python",
   "nbconvert_exporter": "python",
   "pygments_lexer": "ipython3",
   "version": "3.12.5"
  }
 },
 "nbformat": 4,
 "nbformat_minor": 2
}
